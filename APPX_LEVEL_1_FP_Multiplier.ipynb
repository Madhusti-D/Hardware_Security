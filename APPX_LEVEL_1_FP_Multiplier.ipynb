{
  "nbformat": 4,
  "nbformat_minor": 0,
  "metadata": {
    "colab": {
      "provenance": [],
      "authorship_tag": "ABX9TyO9e965xnSye4a0WkuSlpE7",
      "include_colab_link": true
    },
    "kernelspec": {
      "name": "python3",
      "display_name": "Python 3"
    },
    "language_info": {
      "name": "python"
    }
  },
  "cells": [
    {
      "cell_type": "markdown",
      "metadata": {
        "id": "view-in-github",
        "colab_type": "text"
      },
      "source": [
        "<a href=\"https://colab.research.google.com/github/Madhusti-D/Hardware_Security/blob/main/APPX_LEVEL_1_FP_Multiplier.ipynb\" target=\"_parent\"><img src=\"https://colab.research.google.com/assets/colab-badge.svg\" alt=\"Open In Colab\"/></a>"
      ]
    },
    {
      "cell_type": "code",
      "execution_count": 1,
      "metadata": {
        "id": "1QxNS5I2UHCY"
      },
      "outputs": [],
      "source": [
        "#Approximate Mirror Adder AMA1\n",
        "def AMA1(A,B,Cin):\n",
        "  SUM_AX1 = (((~A) & (~B)) | (A & B)) & Cin\n",
        "  C_OUT_1 = B |(A&(~B)&Cin)\n",
        "  return SUM_AX1, C_OUT_1"
      ]
    },
    {
      "cell_type": "code",
      "source": [
        "SUM_AX_1,  C_OUT_1 = AMA1(A=0,B=0,Cin =0)\n",
        "print(\"SUM:\",SUM_AX_1,  \"Carry_Out_1:\", C_OUT_1)\n",
        "\n",
        "SUM_AX_1,  C_OUT_1 = AMA1(A=0,B=0,Cin =1)\n",
        "print(\"SUM:\",SUM_AX_1,  \"Carry_Out_1:\", C_OUT_1)\n",
        "\n",
        "SUM_AX_1,  C_OUT_1 = AMA1(A=0,B=1,Cin =0)\n",
        "print(\"SUM:\",SUM_AX_1,  \"Carry_Out_1:\", C_OUT_1)\n",
        "\n",
        "SUM_AX_1,  C_OUT_1 = AMA1(A=0,B=1,Cin =1)\n",
        "print(\"SUM:\",SUM_AX_1,  \"Carry_Out_1:\", C_OUT_1)\n",
        "\n",
        "SUM_AX_1,  C_OUT_1 = AMA1(A=1,B=0,Cin =0)\n",
        "print(\"SUM:\",SUM_AX_1,  \"Carry_Out_1:\", C_OUT_1)\n",
        "\n",
        "SUM_AX_1,  C_OUT_1 = AMA1(A=1,B=0,Cin =1)\n",
        "print(\"SUM:\",SUM_AX_1,  \"Carry_Out_1:\", C_OUT_1)\n",
        "\n",
        "SUM_AX_1,  C_OUT_1 = AMA1(A=1,B=1,Cin =0)\n",
        "print(\"SUM:\",SUM_AX_1,  \"Carry_Out_1:\", C_OUT_1)\n",
        "\n",
        "SUM_AX_1,  C_OUT_1 = AMA1(A=1,B=1,Cin =1)\n",
        "print(\"SUM:\",SUM_AX_1,  \"Carry_Out_1:\", C_OUT_1)"
      ],
      "metadata": {
        "colab": {
          "base_uri": "https://localhost:8080/"
        },
        "id": "YFie9ei-syP-",
        "outputId": "850f25ec-2f16-4f21-ae28-1d0364401df2"
      },
      "execution_count": 2,
      "outputs": [
        {
          "output_type": "stream",
          "name": "stdout",
          "text": [
            "SUM: 0 Carry_Out_1: 0\n",
            "SUM: 1 Carry_Out_1: 0\n",
            "SUM: 0 Carry_Out_1: 1\n",
            "SUM: 0 Carry_Out_1: 1\n",
            "SUM: 0 Carry_Out_1: 0\n",
            "SUM: 0 Carry_Out_1: 1\n",
            "SUM: 0 Carry_Out_1: 1\n",
            "SUM: 1 Carry_Out_1: 1\n"
          ]
        }
      ]
    },
    {
      "cell_type": "code",
      "source": [
        "# Approximate Array Multiplier based on AMA1 adder with binary inputs and output\n",
        "def APPX_MUL1_4X4_AMA1_binary(a_binary, b_binary):\n",
        "    # Ensure the input strings are 4 bits long\n",
        "    a_binary = a_binary.zfill(4)\n",
        "    b_binary = b_binary.zfill(4)\n",
        "\n",
        "    # Convert binary strings to integers\n",
        "    a = int(a_binary, 2)\n",
        "    b = int(b_binary, 2)\n",
        "\n",
        "    # PP Stage 1\n",
        "    a0b0 = (a >> 3) & (b >> 3)\n",
        "    a1b0 = (a >> 2) & (b >> 3)\n",
        "    a2b0 = (a >> 1) & (b >> 3)\n",
        "    a3b0 = a & (b >> 3)\n",
        "\n",
        "    # PP Stage 2\n",
        "    a0b1 = (a >> 3) & (b >> 2)\n",
        "    a1b1 = (a >> 2) & (b >> 2)\n",
        "    a2b1 = (a >> 1) & (b >> 2)\n",
        "    a3b1 = a & (b >> 2)\n",
        "\n",
        "    # PP Stage 3\n",
        "    a0b2 = (a >> 3) & (b >> 1)\n",
        "    a1b2 = (a >> 2) & (b >> 1)\n",
        "    a2b2 = (a >> 1) & (b >> 1)\n",
        "    a3b2 = a & (b >> 1)\n",
        "\n",
        "    # PP Stage 4\n",
        "    a0b3 = (a >> 3) & (b)\n",
        "    a1b3 = (a >> 2) & (b)\n",
        "    a2b3 = (a >> 1) & (b)\n",
        "    a3b3 = a & (b)\n",
        "\n",
        "    # Calculate the product using your original code\n",
        "    Product = (a0b0 ^ a1b0 + a2b0 + a3b0 + a0b1 + a1b1 + a2b1 + a3b1 + a0b2 + a1b2 + a2b2 + a3b2 + a0b3 + a1b3 + a2b3 + a3b3)\n",
        "    Product = format(Product, '08b')\n",
        "\n",
        "    return Product\n"
      ],
      "metadata": {
        "id": "pRvBEmrMnozF"
      },
      "execution_count": 3,
      "outputs": []
    },
    {
      "cell_type": "code",
      "source": [
        "a=\"0110\"\n",
        "b=\"1110\"\n",
        "input_a = int(a, 2)\n",
        "input_b = int(b, 2)\n",
        "print(\"input a\", input_a)\n",
        "print(\"input b\", input_b)\n",
        "print(\"Result of AMA1\", APPX_MUL1_4X4_AMA1_binary(a, b))\n",
        "Appx_1_op = int(APPX_MUL1_4X4_AMA1_binary(a, b),2)\n",
        "print(\"Result in decimal\", (Appx_1_op))"
      ],
      "metadata": {
        "colab": {
          "base_uri": "https://localhost:8080/"
        },
        "id": "VztmZo8knssq",
        "outputId": "f9a503e6-f7df-4236-eb96-a1329bb6cddf"
      },
      "execution_count": 28,
      "outputs": [
        {
          "output_type": "stream",
          "name": "stdout",
          "text": [
            "input a 6\n",
            "input b 14\n",
            "Result of AMA1 00011010\n",
            "Result in decimal 26\n"
          ]
        }
      ]
    },
    {
      "cell_type": "code",
      "source": [
        "#Approximate 8x8 array multiplier\n",
        "def appx_multiplier8x8(a,b):\n",
        "\n",
        "    a_binary = bin(int(a,2))[2:].zfill(8)\n",
        "    b_binary = bin(int(b,2))[2:].zfill(8)\n",
        "\n",
        "    a0b0 = APPX_MUL1_4X4_AMA1_binary(a[4:], b[4:])\n",
        "    a1b0 = APPX_MUL1_4X4_AMA1_binary(a[:4], b[4:])\n",
        "    a0b1 = APPX_MUL1_4X4_AMA1_binary(a[4:], b[:4])\n",
        "    a1b1 = APPX_MUL1_4X4_AMA1_binary(a[:4], b[:4])\n",
        "    S = int(a0b0, 2) + (int(a1b0, 2) + int(a0b1, 2) * 16 + int(a1b1, 2) * 256)\n",
        "    S = format(S, '016b')\n",
        "    return S"
      ],
      "metadata": {
        "id": "D9o9xM4t-oz7"
      },
      "execution_count": 23,
      "outputs": []
    },
    {
      "cell_type": "code",
      "source": [
        "a=\"00000110\"\n",
        "b=\"00001110\"\n",
        "\n",
        "print(\"input a\", a)\n",
        "print(\"input b\", b)\n",
        "print(\"Result of AMA1\", appx_multiplier8x8(a, b))\n",
        "Appx_1_op = appx_multiplier8x8(a, b)\n",
        "print(\"Result in decimal\", int(Appx_1_op,2))"
      ],
      "metadata": {
        "colab": {
          "base_uri": "https://localhost:8080/"
        },
        "id": "WxhAwHsU-4JP",
        "outputId": "2f4340f7-a799-455c-c4b6-27b91e78d2b3"
      },
      "execution_count": 25,
      "outputs": [
        {
          "output_type": "stream",
          "name": "stdout",
          "text": [
            "input a 00000110\n",
            "input b 00001110\n",
            "Result of AMA1 0000000000011010\n",
            "Result in decimal 26\n"
          ]
        }
      ]
    },
    {
      "cell_type": "code",
      "source": [
        "# Approximate 24x24 array multiplier\n",
        "def appx_multiplier24x24(a, b):\n",
        "    a_binary = bin(int(a, 2))[2:].zfill(24)\n",
        "    b_binary = bin(int(b, 2))[2:].zfill(24)\n",
        "\n",
        "    a0 = a[16:24]\n",
        "    a1 = a[8:16]\n",
        "    a2 = a[0:8]\n",
        "    b0 = b[16:24]\n",
        "    b1 = b[8:16]\n",
        "    b2 = b[0:8]\n",
        "\n",
        "    a0b0 = int(appx_multiplier8x8(a0,b0),2)\n",
        "    a1b0 = int(appx_multiplier8x8(a1,b0),2)*256\n",
        "    a2b0 = int(appx_multiplier8x8(a2,b0),2)*256*256\n",
        "    a0b1 = int(appx_multiplier8x8(a0,b1),2)*256\n",
        "    a1b1 = int(appx_multiplier8x8(a1,b1),2)*256*256\n",
        "    a2b1 = int(appx_multiplier8x8(a2,b1),2)*256*256*256\n",
        "    a0b2 = int(appx_multiplier8x8(a0,b2),2)*256*256\n",
        "    a1b2 = int(appx_multiplier8x8(a1,b2),2)*256*256*256\n",
        "    a2b2 = int(appx_multiplier8x8(a2,b2),2)*256*256*256*256\n",
        "\n",
        "    S = a0b0 + a1b0 + a2b0 + a0b1 + a1b1 + a2b1 + a0b2 + a1b2 + a2b2\n",
        "    S = format(S, '048b')\n",
        "    return S"
      ],
      "metadata": {
        "id": "zEjtWxtgHxCJ"
      },
      "execution_count": 34,
      "outputs": []
    },
    {
      "cell_type": "code",
      "source": [
        "# Test the 24x24 array multiplier\n",
        "a = \"000000000000000000000110\"\n",
        "b = \"000000000000000000001110\"\n",
        "\n",
        "print(\"Input a:\", int(a,2))\n",
        "print(\"Input b:\", int(b,2))\n",
        "\n",
        "result_binary = appx_multiplier24x24(a, b)\n",
        "print(\"Result of AMA1:\", result_binary)\n",
        "print(\"Result in decimal:\", int(result_binary, 2))"
      ],
      "metadata": {
        "colab": {
          "base_uri": "https://localhost:8080/"
        },
        "id": "xzF9OCcJHzHN",
        "outputId": "a72dbf65-5235-4ed0-813e-3e06f03d95ca"
      },
      "execution_count": 35,
      "outputs": [
        {
          "output_type": "stream",
          "name": "stdout",
          "text": [
            "Input a: 6\n",
            "Input b: 14\n",
            "Result of AMA1: 000000000000000000000000000000000000000000011010\n",
            "Result in decimal: 26\n"
          ]
        }
      ]
    },
    {
      "cell_type": "code",
      "source": [
        "#Convert Decimal number to Floating Point Number\n",
        "import struct\n",
        "def dec2FP(num):\n",
        "  s = ''.join(bin(c).replace('0b','').rjust(8,'0') for c in struct.pack('!f',num))\n",
        "  return s\n",
        "\n",
        "#Convert Floating Point number to Decimal number\n",
        "def FP2dec(n):\n",
        "    #add subnormal numbers, for NaNs, for +/- infinity\n",
        "    s = struct.unpack('!f',struct.pack('!I', int(n, 2)))[0]\n",
        "    return s"
      ],
      "metadata": {
        "id": "GcYVFVGducn0"
      },
      "execution_count": 36,
      "outputs": []
    },
    {
      "cell_type": "code",
      "source": [
        "#Approximate Floating Point multiplier\n",
        "def FP_appx_mul(A,B):\n",
        "    if (abs(A)<1e-36) or (abs(B)<1e-36) or (A == 0) or (B==0):\n",
        "        s = 0\n",
        "    else:\n",
        "        S = ['0','00000000','00000000000000000000000']\n",
        "        a = dec2FP(A)\n",
        "        b = dec2FP(B)\n",
        "        sign_ab = int(a[0])^int(b[0])\n",
        "        exponent_a = a[1:9]\n",
        "        if int(exponent_a,2)>255:\n",
        "            exponent_a = 255\n",
        "        exponent_b = b[1:9]\n",
        "        if int(exponent_a,2)>255:\n",
        "            exponent_b = 255\n",
        "        exponent_ab = int(exponent_a,2) + int(exponent_b,2) - 127\n",
        "        if exponent_ab>255:\n",
        "            exponent_ab = 255\n",
        "        mantissa_ab = appx_multiplier24x24('1'+ a[9:32],'1'+ b[9:32])\n",
        "        if mantissa_ab[0] == '1':\n",
        "            final_mantissa = mantissa_ab[1:24]\n",
        "            exponent_ab = exponent_ab + 1\n",
        "        else:\n",
        "            final_mantissa = mantissa_ab[2:25]\n",
        "        S = [str(sign_ab), format(exponent_ab,'08b'), final_mantissa]\n",
        "        S = ''.join(S)\n",
        "        s = FP2dec(S)\n",
        "    return s"
      ],
      "metadata": {
        "id": "zgOVmBryI7FF"
      },
      "execution_count": 37,
      "outputs": []
    },
    {
      "cell_type": "code",
      "source": [
        "x = 0.856\n",
        "y = 0.471\n",
        "print(\"Conventional multiplication\", x*y)\n",
        "print(\"Approximate multiplication using the Ax-FPM\", FP_appx_mul(x,y))"
      ],
      "metadata": {
        "colab": {
          "base_uri": "https://localhost:8080/"
        },
        "id": "wjoWn7r0JRsJ",
        "outputId": "905b9334-27cb-4905-f21e-9aab0bb828f9"
      },
      "execution_count": 38,
      "outputs": [
        {
          "output_type": "stream",
          "name": "stdout",
          "text": [
            "Conventional multiplication 0.403176\n",
            "Approximate multiplication using the Ax-FPM 0.2196701467037201\n"
          ]
        }
      ]
    }
  ]
}