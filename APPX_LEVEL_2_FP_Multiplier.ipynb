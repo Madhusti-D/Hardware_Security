{
  "nbformat": 4,
  "nbformat_minor": 0,
  "metadata": {
    "colab": {
      "provenance": [],
      "authorship_tag": "ABX9TyP8eCYQbd1velemKYyKmPJI",
      "include_colab_link": true
    },
    "kernelspec": {
      "name": "python3",
      "display_name": "Python 3"
    },
    "language_info": {
      "name": "python"
    }
  },
  "cells": [
    {
      "cell_type": "markdown",
      "metadata": {
        "id": "view-in-github",
        "colab_type": "text"
      },
      "source": [
        "<a href=\"https://colab.research.google.com/github/Madhusti-D/Hardware_Security/blob/main/APPX_LEVEL_2_FP_Multiplier.ipynb\" target=\"_parent\"><img src=\"https://colab.research.google.com/assets/colab-badge.svg\" alt=\"Open In Colab\"/></a>"
      ]
    },
    {
      "cell_type": "code",
      "source": [
        "#Approximate Mirror Adder AMA2\n",
        "def AMA2(A,B,Cin):\n",
        "  SUM_AX2 = ((~A)& (((~B) & Cin) | (B & (~Cin)))) | (A &(~B)&(~Cin))\n",
        "  C_OUT_2 = (A&B)^(B&Cin)^(Cin&A)\n",
        "  return SUM_AX2, C_OUT_2"
      ],
      "metadata": {
        "id": "fxTtQdz-39My"
      },
      "execution_count": 2,
      "outputs": []
    },
    {
      "cell_type": "code",
      "execution_count": 3,
      "metadata": {
        "id": "D5uZKpG2iJFL",
        "colab": {
          "base_uri": "https://localhost:8080/"
        },
        "outputId": "7ba9644f-7fb0-46d7-fefb-0b8e78bd7179"
      },
      "outputs": [
        {
          "output_type": "stream",
          "name": "stdout",
          "text": [
            "SUM: 0 Carry_Out_2: 0\n",
            "SUM: 1 Carry_Out_2: 0\n",
            "SUM: 1 Carry_Out_2: 0\n",
            "SUM: 0 Carry_Out_2: 1\n",
            "SUM: 1 Carry_Out_2: 0\n",
            "SUM: 0 Carry_Out_2: 1\n",
            "SUM: 0 Carry_Out_2: 1\n",
            "SUM: 0 Carry_Out_2: 1\n"
          ]
        }
      ],
      "source": [
        "SUM_AX_2,  C_OUT_2 = AMA2(A=0,B=0,Cin =0)\n",
        "print(\"SUM:\",SUM_AX_2,  \"Carry_Out_2:\", C_OUT_2)\n",
        "\n",
        "SUM_AX_2,  C_OUT_2 = AMA2(A=0,B=0,Cin =1)\n",
        "print(\"SUM:\",SUM_AX_2,  \"Carry_Out_2:\", C_OUT_2)\n",
        "\n",
        "SUM_AX_2,  C_OUT_2 = AMA2(A=0,B=1,Cin =0)\n",
        "print(\"SUM:\",SUM_AX_2,  \"Carry_Out_2:\", C_OUT_2)\n",
        "\n",
        "SUM_AX_2,  C_OUT_2 = AMA2(A=0,B=1,Cin =1)\n",
        "print(\"SUM:\",SUM_AX_2,  \"Carry_Out_2:\", C_OUT_2)\n",
        "\n",
        "SUM_AX_2,  C_OUT_2 = AMA2(A=1,B=0,Cin =0)\n",
        "print(\"SUM:\",SUM_AX_2,  \"Carry_Out_2:\", C_OUT_2)\n",
        "\n",
        "SUM_AX_2,  C_OUT_2 = AMA2(A=1,B=0,Cin =1)\n",
        "print(\"SUM:\",SUM_AX_2,  \"Carry_Out_2:\", C_OUT_2)\n",
        "\n",
        "SUM_AX_2,  C_OUT_2 = AMA2(A=1,B=1,Cin =0)\n",
        "print(\"SUM:\",SUM_AX_2,  \"Carry_Out_2:\", C_OUT_2)\n",
        "\n",
        "SUM_AX_2,  C_OUT_2 = AMA2(A=1,B=1,Cin =1)\n",
        "print(\"SUM:\",SUM_AX_2,  \"Carry_Out_2:\", C_OUT_2)"
      ]
    },
    {
      "cell_type": "code",
      "source": [
        "# AMA2 4x4 Multiplier\n",
        "def appx_multiplier4x4_AMA2(a_binary, b_binary):\n",
        "    # Ensure the input strings are 4 bits long\n",
        "    a_binary = a_binary.zfill(4)\n",
        "    b_binary = b_binary.zfill(4)\n",
        "\n",
        "    # Convert binary strings to integers\n",
        "    a = int(a_binary, 2)\n",
        "    b = int(b_binary, 2)\n",
        "\n",
        "    # Partial product calculation\n",
        "    a0b0, c0 = AMA2((a >> 3), (b >> 3), 0)\n",
        "    a1b0, c1 = AMA2((a >> 2), (b >> 3), c0)\n",
        "    a2b0, c2 = AMA2((a >> 1), (b >> 3), c1)\n",
        "    a3b0, c3 = AMA2(a , (b >> 3), c2)\n",
        "\n",
        "    a0b1, c4 = AMA2((a >> 3), (b >> 2) , 0)\n",
        "    a1b1, c5 = AMA2((a >> 2), (b >> 2), c4)\n",
        "    a2b1, c6 = AMA2((a >> 1), (b >> 2), c5)\n",
        "    a3b1, c7 = AMA2(a , (b >> 2), c6)\n",
        "\n",
        "    a0b2, c8 = AMA2((a >> 3), (b >> 1), 0)\n",
        "    a1b2, c9 = AMA2((a >> 2), (b >> 1), c8)\n",
        "    a2b2, c10 = AMA2((a >> 1), (b >> 1), c9)\n",
        "    a3b2, c11 = AMA2(a , (b >> 1), c10)\n",
        "\n",
        "    a0b3, c12 = AMA2((a >> 3), b , 0)\n",
        "    a1b3, c13 = AMA2((a >> 2), b , c12)\n",
        "    a2b3, c14 = AMA2((a >> 1), b , c13)\n",
        "    a3b3, _ = AMA2(a, b , c14)\n",
        "\n",
        "    # Combine partial products\n",
        "    product = (a0b0 ^ a1b0 ^ a2b0 ^ a3b0 ^ a0b1 ^ a1b1 ^ a2b1 ^ a3b1 ^ a0b2 ^ a1b2 ^ a2b2 ^ a3b2 ^ a0b3 ^ a1b3 ^ a2b3 ^ a3b3)\n",
        "    product = format(product, '08b')\n",
        "\n",
        "    return product\n",
        "\n",
        "# Test the AMA2 4x4 Multiplier\n",
        "a = \"0001\"  # Binary representation of 12\n",
        "b = \"0011\"  # Binary representation of 6\n",
        "\n",
        "print(\"Input a:\", a)\n",
        "print(\"Input b:\", b)\n",
        "\n",
        "result_binary = appx_multiplier4x4_AMA2(a, b)\n",
        "print(\"Result of AMA2 4x4 Multiplier:\", result_binary)\n",
        "print(\"Result in decimal:\", int(result_binary, 2))\n"
      ],
      "metadata": {
        "colab": {
          "base_uri": "https://localhost:8080/"
        },
        "id": "SUs6p1fd63y2",
        "outputId": "e9e3eab0-e3d5-46af-fbaf-5cde5c7bb4fa"
      },
      "execution_count": 4,
      "outputs": [
        {
          "output_type": "stream",
          "name": "stdout",
          "text": [
            "Input a: 0001\n",
            "Input b: 0011\n",
            "Result of AMA2 4x4 Multiplier: 00000000\n",
            "Result in decimal: 0\n"
          ]
        }
      ]
    },
    {
      "cell_type": "code",
      "source": [
        "\n",
        "#Approximate 8x8 array multiplier\n",
        "def appx_multiplier8x8(a,b):\n",
        "\n",
        "    a_binary = bin(int(a,2))[2:].zfill(8)\n",
        "    b_binary = bin(int(b,2))[2:].zfill(8)\n",
        "\n",
        "    a0b0 = appx_multiplier4x4_AMA2(a[4:], b[4:])\n",
        "    a1b0 = appx_multiplier4x4_AMA2(a[:4], b[4:])\n",
        "    a0b1 = appx_multiplier4x4_AMA2(a[4:], b[:4])\n",
        "    a1b1 = appx_multiplier4x4_AMA2(a[:4], b[:4])\n",
        "    S = int(a0b0, 2) + (int(a1b0, 2) + int(a0b1, 2) * 16 + int(a1b1, 2) * 256)\n",
        "    S = format(S, '016b')\n",
        "    return S\n",
        ""
      ],
      "metadata": {
        "id": "IkO4qeaS-bFM"
      },
      "execution_count": 6,
      "outputs": []
    },
    {
      "cell_type": "code",
      "source": [
        "\n",
        "a=\"00000110\"\n",
        "b=\"00001110\"\n",
        "\n",
        "print(\"input a\", a)\n",
        "print(\"input b\", b)\n",
        "print(\"Result of AMA1\", appx_multiplier8x8(a, b))\n",
        "Appx_1_op = appx_multiplier8x8(a, b)\n",
        "print(\"Result in decimal\", int(Appx_1_op,2))"
      ],
      "metadata": {
        "colab": {
          "base_uri": "https://localhost:8080/"
        },
        "id": "Uo58bNpT-scS",
        "outputId": "ea7116be-9ce6-4615-b800-bbf006fcee98"
      },
      "execution_count": 7,
      "outputs": [
        {
          "output_type": "stream",
          "name": "stdout",
          "text": [
            "input a 00000110\n",
            "input b 00001110\n",
            "Result of AMA1 0000000001100101\n",
            "Result in decimal 101\n"
          ]
        }
      ]
    },
    {
      "cell_type": "code",
      "source": [
        "# Approximate 24x24 array multiplier\n",
        "def appx_multiplier24x24(a, b):\n",
        "    a_binary = bin(int(a, 2))[2:].zfill(24)\n",
        "    b_binary = bin(int(b, 2))[2:].zfill(24)\n",
        "\n",
        "    a0 = a[16:24]\n",
        "    a1 = a[8:16]\n",
        "    a2 = a[0:8]\n",
        "    b0 = b[16:24]\n",
        "    b1 = b[8:16]\n",
        "    b2 = b[0:8]\n",
        "\n",
        "    a0b0 = int(appx_multiplier8x8(a0,b0),2)\n",
        "    a1b0 = int(appx_multiplier8x8(a1,b0),2)*256\n",
        "    a2b0 = int(appx_multiplier8x8(a2,b0),2)*256*256\n",
        "    a0b1 = int(appx_multiplier8x8(a0,b1),2)*256\n",
        "    a1b1 = int(appx_multiplier8x8(a1,b1),2)*256*256\n",
        "    a2b1 = int(appx_multiplier8x8(a2,b1),2)*256*256*256\n",
        "    a0b2 = int(appx_multiplier8x8(a0,b2),2)*256*256\n",
        "    a1b2 = int(appx_multiplier8x8(a1,b2),2)*256*256*256\n",
        "    a2b2 = int(appx_multiplier8x8(a2,b2),2)*256*256*256*256\n",
        "\n",
        "    S = a0b0 + a1b0 + a2b0 + a0b1 + a1b1 + a2b1 + a0b2 + a1b2 + a2b2\n",
        "    S = format(S, '048b')\n",
        "    return S"
      ],
      "metadata": {
        "id": "KjpqQ-AX-yod"
      },
      "execution_count": 8,
      "outputs": []
    },
    {
      "cell_type": "code",
      "source": [
        "\n",
        "# Test the 24x24 array multiplier\n",
        "a = \"000000000000000000000110\"\n",
        "b = \"000000000000000000001110\"\n",
        "\n",
        "print(\"Input a:\", int(a,2))\n",
        "print(\"Input b:\", int(b,2))\n",
        "\n",
        "result_binary = appx_multiplier24x24(a, b)\n",
        "print(\"Result of AMA1:\", result_binary)\n",
        "print(\"Result in decimal:\", int(result_binary, 2))"
      ],
      "metadata": {
        "colab": {
          "base_uri": "https://localhost:8080/"
        },
        "id": "MDOx2_M4-7vD",
        "outputId": "0de9dfc3-0976-408a-b8aa-e1d339360b8d"
      },
      "execution_count": 9,
      "outputs": [
        {
          "output_type": "stream",
          "name": "stdout",
          "text": [
            "Input a: 6\n",
            "Input b: 14\n",
            "Result of AMA1: 000000000000000000000000011001100110011001100101\n",
            "Result in decimal: 6710885\n"
          ]
        }
      ]
    },
    {
      "cell_type": "code",
      "source": [
        "#Convert Decimal number to Floating Point Number\n",
        "import struct\n",
        "def dec2FP(num):\n",
        "  s = ''.join(bin(c).replace('0b','').rjust(8,'0') for c in struct.pack('!f',num))\n",
        "  return s\n",
        "\n",
        "#Convert Floating Point number to Decimal number\n",
        "def FP2dec(n):\n",
        "    #add subnormal numbers, for NaNs, for +/- infinity\n",
        "    s = struct.unpack('!f',struct.pack('!I', int(n, 2)))[0]\n",
        "    return s"
      ],
      "metadata": {
        "id": "GcYVFVGducn0"
      },
      "execution_count": 10,
      "outputs": []
    },
    {
      "cell_type": "code",
      "source": [
        "#Approximate Floating Point multiplier\n",
        "def FP_appx_mul(A,B):\n",
        "    if (abs(A)<1e-36) or (abs(B)<1e-36) or (A == 0) or (B==0):\n",
        "        s = 0\n",
        "    else:\n",
        "        S = ['0','00000000','00000000000000000000000']\n",
        "        a = dec2FP(A)\n",
        "        b = dec2FP(B)\n",
        "        sign_ab = int(a[0])^int(b[0])\n",
        "        exponent_a = a[1:9]\n",
        "        if int(exponent_a,2)>255:\n",
        "            exponent_a = 255\n",
        "        exponent_b = b[1:9]\n",
        "        if int(exponent_a,2)>255:\n",
        "            exponent_b = 255\n",
        "        exponent_ab = int(exponent_a,2) + int(exponent_b,2) - 127\n",
        "        if exponent_ab>255:\n",
        "            exponent_ab = 255\n",
        "        mantissa_ab = appx_multiplier24x24('1'+ a[9:32],'1'+ b[9:32])\n",
        "        if mantissa_ab[0] == '1':\n",
        "            final_mantissa = mantissa_ab[1:24]\n",
        "            exponent_ab = exponent_ab + 1\n",
        "        else:\n",
        "            final_mantissa = mantissa_ab[2:25]\n",
        "        S = [str(sign_ab), format(exponent_ab,'08b'), final_mantissa]\n",
        "        S = ''.join(S)\n",
        "        s = FP2dec(S)\n",
        "    return s"
      ],
      "metadata": {
        "id": "zgOVmBryI7FF"
      },
      "execution_count": 11,
      "outputs": []
    },
    {
      "cell_type": "code",
      "source": [
        "x = 0.856\n",
        "y = 0.471\n",
        "print(\"Conventional multiplication\", x*y)\n",
        "print(\"Approximate multiplication using the Ax-FPM\", FP_appx_mul(x,y))"
      ],
      "metadata": {
        "colab": {
          "base_uri": "https://localhost:8080/"
        },
        "id": "wjoWn7r0JRsJ",
        "outputId": "888ef72b-f023-4644-ac5a-a293411109f2"
      },
      "execution_count": 12,
      "outputs": [
        {
          "output_type": "stream",
          "name": "stdout",
          "text": [
            "Conventional multiplication 0.403176\n",
            "Approximate multiplication using the Ax-FPM 0.14607247710227966\n"
          ]
        }
      ]
    }
  ]
}