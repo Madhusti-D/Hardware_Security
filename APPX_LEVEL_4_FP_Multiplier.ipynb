{
  "nbformat": 4,
  "nbformat_minor": 0,
  "metadata": {
    "colab": {
      "provenance": [],
      "authorship_tag": "ABX9TyP8DaelD6rIfVjAx5dS8W+u",
      "include_colab_link": true
    },
    "kernelspec": {
      "name": "python3",
      "display_name": "Python 3"
    },
    "language_info": {
      "name": "python"
    }
  },
  "cells": [
    {
      "cell_type": "markdown",
      "metadata": {
        "id": "view-in-github",
        "colab_type": "text"
      },
      "source": [
        "<a href=\"https://colab.research.google.com/github/Madhusti-D/Hardware_Security/blob/main/APPX_LEVEL_4_FP_Multiplier.ipynb\" target=\"_parent\"><img src=\"https://colab.research.google.com/assets/colab-badge.svg\" alt=\"Open In Colab\"/></a>"
      ]
    },
    {
      "cell_type": "code",
      "source": [
        "#Approximate Mirror Adder AMA2\n",
        "def AMA4(A,B,Cin):\n",
        "  SUM_AX4 = (((~A)&(~B))| (A&B))&Cin\n",
        "\n",
        "  C_OUT_4 = (A&(~B)&Cin)| (A & B)\n",
        "  return SUM_AX4, C_OUT_4"
      ],
      "metadata": {
        "id": "fxTtQdz-39My"
      },
      "execution_count": 16,
      "outputs": []
    },
    {
      "cell_type": "code",
      "execution_count": 18,
      "metadata": {
        "id": "D5uZKpG2iJFL",
        "colab": {
          "base_uri": "https://localhost:8080/"
        },
        "outputId": "891cb993-76bb-41d5-baf4-be3280f1c9f7"
      },
      "outputs": [
        {
          "output_type": "stream",
          "name": "stdout",
          "text": [
            "SUM: 0 Carry_Out_4: 0\n",
            "SUM: 1 Carry_Out_4: 0\n",
            "SUM: 0 Carry_Out_4: 0\n",
            "SUM: 0 Carry_Out_4: 0\n",
            "SUM: 0 Carry_Out_4: 0\n",
            "SUM: 0 Carry_Out_4: 1\n",
            "SUM: 0 Carry_Out_4: 1\n",
            "SUM: 1 Carry_Out_4: 1\n"
          ]
        }
      ],
      "source": [
        "SUM_AX_4,  C_OUT_4 = AMA4(A=0,B=0,Cin =0)\n",
        "print(\"SUM:\",SUM_AX_4,  \"Carry_Out_4:\", C_OUT_4)\n",
        "\n",
        "SUM_AX_4,  C_OUT_4 = AMA4(A=0,B=0,Cin =1)\n",
        "print(\"SUM:\",SUM_AX_4,  \"Carry_Out_4:\", C_OUT_4)\n",
        "\n",
        "SUM_AX_4,  C_OUT_4 = AMA4(A=0,B=1,Cin =0)\n",
        "print(\"SUM:\",SUM_AX_4,  \"Carry_Out_4:\", C_OUT_4)\n",
        "\n",
        "SUM_AX_4,  C_OUT_4 = AMA4(A=0,B=1,Cin =1)\n",
        "print(\"SUM:\",SUM_AX_4,  \"Carry_Out_4:\", C_OUT_4)\n",
        "\n",
        "SUM_AX_4,  C_OUT_4 = AMA4(A=1,B=0,Cin =0)\n",
        "print(\"SUM:\",SUM_AX_4,  \"Carry_Out_4:\", C_OUT_4)\n",
        "\n",
        "SUM_AX_4,  C_OUT_4 = AMA4(A=1,B=0,Cin =1)\n",
        "print(\"SUM:\",SUM_AX_4,  \"Carry_Out_4:\", C_OUT_4)\n",
        "\n",
        "SUM_AX_4,  C_OUT_4 = AMA4(A=1,B=1,Cin =0)\n",
        "print(\"SUM:\",SUM_AX_4,  \"Carry_Out_4:\", C_OUT_4)\n",
        "\n",
        "SUM_AX_4,  C_OUT_4 = AMA4(A=1,B=1,Cin =1)\n",
        "print(\"SUM:\",SUM_AX_4,  \"Carry_Out_4:\", C_OUT_4)"
      ]
    },
    {
      "cell_type": "code",
      "source": [
        "# AMA3 4x4 Multiplier\n",
        "def appx_multiplier4x4_AMA4(a_binary, b_binary):\n",
        "    # Ensure the input strings are 4 bits long\n",
        "    a_binary = a_binary.zfill(4)\n",
        "    b_binary = b_binary.zfill(4)\n",
        "\n",
        "    # Convert binary strings to integers\n",
        "    a = int(a_binary, 2)\n",
        "    b = int(b_binary, 2)\n",
        "\n",
        "    # Partial product calculation\n",
        "    a0b0, c0 = AMA4((a >> 3), (b >> 3), 0)\n",
        "    a1b0, c1 = AMA4((a >> 2), (b >> 3), c0)\n",
        "    a2b0, c2 = AMA4((a >> 1), (b >> 3), c1)\n",
        "    a3b0, c3 = AMA4(a , (b >> 3), c2)\n",
        "\n",
        "    a0b1, c4 = AMA4((a >> 3), (b >> 2) , 0)\n",
        "    a1b1, c5 = AMA4((a >> 2), (b >> 2), c4)\n",
        "    a2b1, c6 = AMA4((a >> 1), (b >> 2), c5)\n",
        "    a3b1, c7 = AMA4(a , (b >> 2), c6)\n",
        "\n",
        "    a0b2, c8 = AMA4((a >> 3), (b >> 1), 0)\n",
        "    a1b2, c9 = AMA4((a >> 2), (b >> 1), c8)\n",
        "    a2b2, c10 = AMA4((a >> 1), (b >> 1), c9)\n",
        "    a3b2, c11 = AMA4(a , (b >> 1), c10)\n",
        "\n",
        "    a0b3, c12 = AMA4((a >> 3), b , 0)\n",
        "    a1b3, c13 = AMA4((a >> 2), b , c12)\n",
        "    a2b3, c14 = AMA4((a >> 1), b , c13)\n",
        "    a3b3, _ = AMA4(a, b , c14)\n",
        "\n",
        "    # Combine partial products\n",
        "    product = (a0b0 ^ a1b0 ^ a2b0 ^ a3b0 ^ a0b1 ^ a1b1 ^ a2b1 ^ a3b1 ^ a0b2 ^ a1b2 ^ a2b2 ^ a3b2 ^ a0b3 ^ a1b3 ^ a2b3 ^ a3b3)\n",
        "    product = format(product, '08b')\n",
        "\n",
        "    return product\n"
      ],
      "metadata": {
        "id": "6haqN3SR2ExX"
      },
      "execution_count": 19,
      "outputs": []
    },
    {
      "cell_type": "code",
      "source": [
        "# Test the AMA2 4x4 Multiplier\n",
        "a = \"0001\"  # Binary representation of 12\n",
        "b = \"0011\"  # Binary representation of 6\n",
        "\n",
        "print(\"Input a:\", a)\n",
        "print(\"Input b:\", b)\n",
        "\n",
        "result_binary = appx_multiplier4x4_AMA4(a, b)\n",
        "print(\"Result of AMA2 4x4 Multiplier:\", result_binary)\n",
        "print(\"Result in decimal:\", int(result_binary, 2))"
      ],
      "metadata": {
        "colab": {
          "base_uri": "https://localhost:8080/"
        },
        "id": "frPc40wp2XT9",
        "outputId": "57932d55-bc64-4ca9-9a39-0ec78e8314f6"
      },
      "execution_count": 20,
      "outputs": [
        {
          "output_type": "stream",
          "name": "stdout",
          "text": [
            "Input a: 0001\n",
            "Input b: 0011\n",
            "Result of AMA2 4x4 Multiplier: 00000000\n",
            "Result in decimal: 0\n"
          ]
        }
      ]
    },
    {
      "cell_type": "code",
      "source": [
        "#Approximate 8x8 array multiplier\n",
        "def appx_multiplier8x8(a,b):\n",
        "\n",
        "    a_binary = bin(int(a,2))[2:].zfill(8)\n",
        "    b_binary = bin(int(b,2))[2:].zfill(8)\n",
        "\n",
        "    a0b0 = appx_multiplier4x4_AMA4(a[4:], b[4:])\n",
        "    a1b0 = appx_multiplier4x4_AMA4(a[:4], b[4:])\n",
        "    a0b1 = appx_multiplier4x4_AMA4(a[4:], b[:4])\n",
        "    a1b1 = appx_multiplier4x4_AMA4(a[:4], b[:4])\n",
        "    S = int(a0b0, 2) + (int(a1b0, 2) + int(a0b1, 2) * 16 + int(a1b1, 2) * 256)\n",
        "    S = format(S, '016b')\n",
        "    return S\n"
      ],
      "metadata": {
        "id": "w0bvU5712cuA"
      },
      "execution_count": 21,
      "outputs": []
    },
    {
      "cell_type": "code",
      "source": [
        "a=\"00000110\"\n",
        "b=\"00001110\"\n",
        "\n",
        "print(\"input a\", a)\n",
        "print(\"input b\", b)\n",
        "print(\"Result of AMA1\", appx_multiplier8x8(a, b))\n",
        "Appx_1_op = appx_multiplier8x8(a, b)\n",
        "print(\"Result in decimal\", int(Appx_1_op,2))"
      ],
      "metadata": {
        "colab": {
          "base_uri": "https://localhost:8080/"
        },
        "id": "wW_IuCsN2ko3",
        "outputId": "f66a8df1-0005-47f6-b69a-d2c704f59f55"
      },
      "execution_count": 22,
      "outputs": [
        {
          "output_type": "stream",
          "name": "stdout",
          "text": [
            "input a 00000110\n",
            "input b 00001110\n",
            "Result of AMA1 0000000000000011\n",
            "Result in decimal 3\n"
          ]
        }
      ]
    },
    {
      "cell_type": "code",
      "source": [
        "# Approximate 24x24 array multiplier\n",
        "def appx_multiplier24x24(a, b):\n",
        "    a_binary = bin(int(a, 2))[2:].zfill(24)\n",
        "    b_binary = bin(int(b, 2))[2:].zfill(24)\n",
        "\n",
        "    a0 = a[16:24]\n",
        "    a1 = a[8:16]\n",
        "    a2 = a[0:8]\n",
        "    b0 = b[16:24]\n",
        "    b1 = b[8:16]\n",
        "    b2 = b[0:8]\n",
        "\n",
        "    a0b0 = int(appx_multiplier8x8(a0,b0),2)\n",
        "    a1b0 = int(appx_multiplier8x8(a1,b0),2)*256\n",
        "    a2b0 = int(appx_multiplier8x8(a2,b0),2)*256*256\n",
        "    a0b1 = int(appx_multiplier8x8(a0,b1),2)*256\n",
        "    a1b1 = int(appx_multiplier8x8(a1,b1),2)*256*256\n",
        "    a2b1 = int(appx_multiplier8x8(a2,b1),2)*256*256*256\n",
        "    a0b2 = int(appx_multiplier8x8(a0,b2),2)*256*256\n",
        "    a1b2 = int(appx_multiplier8x8(a1,b2),2)*256*256*256\n",
        "    a2b2 = int(appx_multiplier8x8(a2,b2),2)*256*256*256*256\n",
        "\n",
        "    S = a0b0 + a1b0 + a2b0 + a0b1 + a1b1 + a2b1 + a0b2 + a1b2 + a2b2\n",
        "    S = format(S, '048b')\n",
        "    return S"
      ],
      "metadata": {
        "id": "3HCUt3J02mv1"
      },
      "execution_count": 23,
      "outputs": []
    },
    {
      "cell_type": "code",
      "source": [
        "# Test the 24x24 array multiplier\n",
        "a = \"000000000000000000000110\"\n",
        "b = \"000000000000000000001110\"\n",
        "\n",
        "print(\"Input a:\", int(a,2))\n",
        "print(\"Input b:\", int(b,2))\n",
        "\n",
        "result_binary = appx_multiplier24x24(a, b)\n",
        "print(\"Result of AMA1:\", result_binary)\n",
        "print(\"Result in decimal:\", int(result_binary, 2))"
      ],
      "metadata": {
        "colab": {
          "base_uri": "https://localhost:8080/"
        },
        "id": "Su_s_O7g2xhu",
        "outputId": "9ae7d1a9-96d0-4562-9fe9-97b59fdad7c2"
      },
      "execution_count": 24,
      "outputs": [
        {
          "output_type": "stream",
          "name": "stdout",
          "text": [
            "Input a: 6\n",
            "Input b: 14\n",
            "Result of AMA1: 000000000000000000000000000000000000000000000011\n",
            "Result in decimal: 3\n"
          ]
        }
      ]
    },
    {
      "cell_type": "code",
      "source": [
        "#Convert Decimal number to Floating Point Number\n",
        "import struct\n",
        "def dec2FP(num):\n",
        "  s = ''.join(bin(c).replace('0b','').rjust(8,'0') for c in struct.pack('!f',num))\n",
        "  return s\n",
        "\n",
        "#Convert Floating Point number to Decimal number\n",
        "def FP2dec(n):\n",
        "    #add subnormal numbers, for NaNs, for +/- infinity\n",
        "    s = struct.unpack('!f',struct.pack('!I', int(n, 2)))[0]\n",
        "    return s"
      ],
      "metadata": {
        "id": "KiePMRSB21PG"
      },
      "execution_count": 25,
      "outputs": []
    },
    {
      "cell_type": "code",
      "source": [
        "#Approximate Floating Point multiplier\n",
        "def FP_appx_mul(A,B):\n",
        "    if (abs(A)<1e-36) or (abs(B)<1e-36) or (A == 0) or (B==0):\n",
        "        s = 0\n",
        "    else:\n",
        "        S = ['0','00000000','00000000000000000000000']\n",
        "        a = dec2FP(A)\n",
        "        b = dec2FP(B)\n",
        "        sign_ab = int(a[0])^int(b[0])\n",
        "        exponent_a = a[1:9]\n",
        "        if int(exponent_a,2)>255:\n",
        "            exponent_a = 255\n",
        "        exponent_b = b[1:9]\n",
        "        if int(exponent_a,2)>255:\n",
        "            exponent_b = 255\n",
        "        exponent_ab = int(exponent_a,2) + int(exponent_b,2) - 127\n",
        "        if exponent_ab>255:\n",
        "            exponent_ab = 255\n",
        "        mantissa_ab = appx_multiplier24x24('1'+ a[9:32],'1'+ b[9:32])\n",
        "        if mantissa_ab[0] == '1':\n",
        "            final_mantissa = mantissa_ab[1:24]\n",
        "            exponent_ab = exponent_ab + 1\n",
        "        else:\n",
        "            final_mantissa = mantissa_ab[2:25]\n",
        "        S = [str(sign_ab), format(exponent_ab,'08b'), final_mantissa]\n",
        "        S = ''.join(S)\n",
        "        s = FP2dec(S)\n",
        "    return s"
      ],
      "metadata": {
        "id": "qmPEm2se246H"
      },
      "execution_count": 26,
      "outputs": []
    },
    {
      "cell_type": "code",
      "source": [
        "x = 0.856\n",
        "y = 0.471\n",
        "print(\"Conventional multiplication\", x*y)\n",
        "print(\"Approximate multiplication using the Ax-FPM\", FP_appx_mul(x,y))"
      ],
      "metadata": {
        "colab": {
          "base_uri": "https://localhost:8080/"
        },
        "id": "6B8virGW3DBM",
        "outputId": "25afa618-fe15-4e19-eaed-d9326dafcbb3"
      },
      "execution_count": 27,
      "outputs": [
        {
          "output_type": "stream",
          "name": "stdout",
          "text": [
            "Conventional multiplication 0.403176\n",
            "Approximate multiplication using the Ax-FPM 0.12894514203071594\n"
          ]
        }
      ]
    }
  ]
}